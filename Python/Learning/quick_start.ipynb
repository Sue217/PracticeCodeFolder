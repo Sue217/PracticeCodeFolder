{
 "cells": [
  {
   "cell_type": "code",
   "execution_count": 3,
   "id": "final-specification",
   "metadata": {},
   "outputs": [
    {
     "name": "stdout",
     "output_type": "stream",
     "text": [
      "Hello World\n"
     ]
    }
   ],
   "source": [
    "# print\n",
    "print(\"Hello World\")"
   ]
  },
  {
   "cell_type": "code",
   "execution_count": 7,
   "id": "color-tuesday",
   "metadata": {},
   "outputs": [
    {
     "name": "stdin",
     "output_type": "stream",
     "text": [
      " 123\n"
     ]
    },
    {
     "name": "stdout",
     "output_type": "stream",
     "text": [
      "123\n"
     ]
    }
   ],
   "source": [
    "# varible\n",
    "var = input()\n",
    "print (var)"
   ]
  },
  {
   "cell_type": "code",
   "execution_count": 12,
   "id": "actual-somewhere",
   "metadata": {},
   "outputs": [
    {
     "name": "stdout",
     "output_type": "stream",
     "text": [
      "Python\n",
      "Python\n",
      "Py\n",
      "tho\n",
      "o\n",
      "on\n",
      "Python\n",
      "Python\n"
     ]
    }
   ],
   "source": [
    "# string\n",
    "print(\"Python\")\n",
    "print('Python')\n",
    "word = \"Pyt\" + \"hon\"\n",
    "print(word[:2])\n",
    "print(word[2:5])\n",
    "word = 'Py' + 'thon'\n",
    "print(word[-2])\n",
    "print(word[-2:])\n",
    "word = \"Python\"\n",
    "print(word)\n",
    "word = 'Python'\n",
    "print(word)\n",
    "#! print(word[42]) IndexError Traceback (most recent call last)"
   ]
  },
  {
   "cell_type": "code",
   "execution_count": 20,
   "id": "induced-receptor",
   "metadata": {},
   "outputs": [
    {
     "name": "stdout",
     "output_type": "stream",
     "text": [
      "563.78\n",
      "563.78\n",
      "   563.1\n"
     ]
    }
   ],
   "source": [
    "# format\n",
    "f = 563.781429\n",
    "print(\"%5.2f\" % f)\n",
    "print(\"{:5.2f}\".format(f))\n",
    "f = 563.1\n",
    "print(\"{:8.1f}\".format(f))"
   ]
  },
  {
   "cell_type": "code",
   "execution_count": 28,
   "id": "direct-recorder",
   "metadata": {},
   "outputs": [
    {
     "name": "stdout",
     "output_type": "stream",
     "text": [
      "2^31 = 2147483648\n",
      "pow(2,31) = 2147483648\n",
      "x^12.5 = 5792.61875148\n"
     ]
    }
   ],
   "source": [
    "# Rise a number to a power\n",
    "x = 2\n",
    "n = 31\n",
    "power = x ** n\n",
    "print(\"%d^%d = %d\" % (x, n, power))\n",
    "power = pow(x, n)\n",
    "print(\"pow(%d,%d) = %d\" % (x, n, power))\n",
    "import math\n",
    "power = math.pow(x, 12.5)\n",
    "print(\"x^12.5 = {:.8f}\".format(power))"
   ]
  },
  {
   "cell_type": "code",
   "execution_count": null,
   "id": "killing-primary",
   "metadata": {},
   "outputs": [],
   "source": [
    "# if-else & boolean & function\n",
    "ok = True\n",
    "print(ok)\n",
    "def check(a, b):\n",
    "    if (a < b):\n",
    "        return True\n",
    "    else:\n",
    "        return False\n",
    "var1 = 42\n",
    "var2 = int(2e4)\n",
    "if (check(var1, var2)):\n",
    "    print(\"less\")\n",
    "else:\n",
    "    if (var1 == var2):\n",
    "        print(\"equal\")\n",
    "    else:\n",
    "        print(\"greater or equal\")"
   ]
  }
 ],
 "metadata": {
  "kernelspec": {
   "display_name": "Python 3",
   "language": "python",
   "name": "python3"
  },
  "language_info": {
   "codemirror_mode": {
    "name": "ipython",
    "version": 3
   },
   "file_extension": ".py",
   "mimetype": "text/x-python",
   "name": "python",
   "nbconvert_exporter": "python",
   "pygments_lexer": "ipython3",
   "version": "3.9.1"
  }
 },
 "nbformat": 4,
 "nbformat_minor": 5
}
