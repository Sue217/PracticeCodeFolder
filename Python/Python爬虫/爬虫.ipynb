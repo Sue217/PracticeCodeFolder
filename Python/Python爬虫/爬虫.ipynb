{
 "cells": [
  {
   "cell_type": "markdown",
   "id": "aggressive-asset",
   "metadata": {},
   "source": [
    "## 顺序\n",
    "### 准备工作\n",
    "通过浏览器查看分析目标网页，学习编程规范\n",
    "### 获取数据\n",
    "通过http库向网站发送request，包含额外的header信息\n",
    "如果服务器正常响应，会得到一个response，便是所要获取的页面内容\n",
    "### 解析内容\n",
    "得到的内容可能是html或json格式，可用页面解析库或正则表达式进行解析\n",
    "### 保存数据\n",
    "可以保存为文本，保存到数据库，或者其他格式文件"
   ]
  },
  {
   "cell_type": "markdown",
   "id": "charitable-massachusetts",
   "metadata": {},
   "source": [
    "## 编码规范\n",
    "coding=utf-8或-*-coding:utf-8-*-\n",
    "在最后加入main函数测试程序:\n",
    "if __name__==\"__main__\":    #当程序执行时\n",
    "#调用函数\n",
    "    main()\n",
    "\n",
    "## 调用模块(库)\n",
    "import sys \n",
    "\n",
    "from bs4 import BeautifulSoup #网页解析，获取数据\n",
    "\n",
    "import re #正则表达式，进行文字匹配\n",
    "\n",
    "import urllib #制定URL，获取网页数据\n",
    "\n",
    "import xlwt #进行Excel操作\n",
    "\n",
    "import sqlite3 #进行sqlite数据库操作\n",
    "\n",
    "## 获取数据\n",
    "获取页面数据\n",
    "\n",
    "对每一个页面调用askURL函数获取页面内容\n",
    "\n",
    "定义一个askURL函数，输入一个URL（网址）\n",
    "\n",
    "urllib2.Request生成请求\n",
    "\n",
    "urllib2.urlopen获取响应\n",
    "\n",
    "read获取页面内容\n",
    "\n",
    "为了程序正常运行，加入异常捕获try...except语句"
   ]
  },
  {
   "cell_type": "code",
   "execution_count": 5,
   "id": "drawn-covering",
   "metadata": {},
   "outputs": [],
   "source": [
    "import bs4\n",
    "import re\n",
    "import urllib.request,urllib.error\n",
    "import xlwt"
   ]
  },
  {
   "cell_type": "code",
   "execution_count": 6,
   "id": "instructional-acceptance",
   "metadata": {},
   "outputs": [],
   "source": [
    "def main():\n",
    "    baseurl=\"\"\n",
    "    \n",
    "    #爬取网页\n",
    "    datalist=getData(baseurl)\n",
    "    \n",
    "    #保存数据\n",
    "    savepath=\"\"\n",
    "    saveData(savepath):\n",
    "        "
   ]
  },
  {
   "cell_type": "code",
   "execution_count": null,
   "id": "authentic-volume",
   "metadata": {},
   "outputs": [],
   "source": [
    "def getData():\n",
    "    datalist=[]\n",
    "    \n",
    "    return datalist"
   ]
  },
  {
   "cell_type": "code",
   "execution_count": null,
   "id": "realistic-corner",
   "metadata": {},
   "outputs": [],
   "source": [
    "def saveData(savepath):\n",
    "    "
   ]
  },
  {
   "cell_type": "code",
   "execution_count": 31,
   "id": "primary-rogers",
   "metadata": {},
   "outputs": [
    {
     "name": "stdout",
     "output_type": "stream",
     "text": [
      "200\n"
     ]
    }
   ],
   "source": [
    "#获得get请求\n",
    "import urllib.request\n",
    "response=urllib.request.urlopen(\"http://www.baidu.com\")\n",
    "#response=request.get(\"url\").content\n",
    "\n",
    "#异常处理(超时处理)\n",
    "print(response.status) #状态码 正常200异常404:not found,418:you are found\n",
    "try:\n",
    "    response=urllib.request.urlopen(\"http://www.baidu.com\",timeout=0.1)\n",
    "    print(response.read().decode(\"utf-8\"))\n",
    "except urllib.error.URLError as e:\n",
    "    print(\"Time Out!\")\n",
    "    "
   ]
  },
  {
   "cell_type": "code",
   "execution_count": 26,
   "id": "located-israeli",
   "metadata": {},
   "outputs": [],
   "source": [
    "#获得post请求\n",
    "import urllib.request\n",
    "import urllib.parse\n",
    "data=bytes(urllib.parse.urlencode({\"hello\":\"world\"}),encoding='utf-8')\n",
    "response=urllib.request.urlopen(\"http://httpbin/post\",data=data)\n",
    "print(responce.read().decode('utf-8'))"
   ]
  }
 ],
 "metadata": {
  "kernelspec": {
   "display_name": "Python 3",
   "language": "python",
   "name": "python3"
  },
  "language_info": {
   "codemirror_mode": {
    "name": "ipython",
    "version": 3
   },
   "file_extension": ".py",
   "mimetype": "text/x-python",
   "name": "python",
   "nbconvert_exporter": "python",
   "pygments_lexer": "ipython3",
   "version": "3.9.1"
  }
 },
 "nbformat": 4,
 "nbformat_minor": 5
}
