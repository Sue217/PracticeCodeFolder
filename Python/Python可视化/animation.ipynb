import turtle as t
 
 
# radius可以看作半径，extent是角度，控制是圆还是半圆或是什么的。
# fc是填充的颜色，默认为白色。
# 每次画完圆之后都会回到原点。
def yuan(radius,extent = None,fc='white'):
    # setheading是保证当次循环是同一朝向。
    t.setheading(dd)
    t.forward(radius)
    t.left(90)
    t.down()
    t.fillcolor(fc)
    t.begin_fill()
    t.circle( radius, extent )
    t.end_fill()
    t.up()
    t.right(90)
    t.back(radius)
 
 
 
#旋转的太极
a=8
dd=a
t.hideturtle()
while True:
    t.goto(0,0)
    t.tracer(0,0)
    # 画个黑半圆，
    yuan(200,extent=180,fc='black')
    # 画个白半圆。
    yuan(200,extent=-180)
    # 向前100，画个黑半圆。
    t.forward(100)
    yuan(100,extent=-180,fc='black')
    # 向后200，画个白半圆。
    t.back(200)
    yuan(100,extent=180)
    # 顺便画个小黑圆，比白圆大点是因为白圆还有边框，显得大。
    yuan(33,fc='black')
    # 向后200，画个小白圆。要问我为什么不是向前200，因为我试出来的233333
    t.back(200)
    yuan(30)
    # 延时10毫秒，不加这句的话，因为tracer(0,0)是画完才显示，会导致一直啥都画不出来。
    # 同时也不能用time.sleep之类的函数，亲测用不了。
    t.tracer(1,10)
    # 然后下次循环的goto在tracer(0,0)之前这个很有讲究。这相当于是tracer(1,10)执行的一个语句。
    # 如果没有的话，会导致tracer(1,10)直接被tracer(0,0)覆盖，还是会什么也画不出来。。
    dd+=a
    if dd>360:
        dd-=360